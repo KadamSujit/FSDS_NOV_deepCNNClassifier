{
 "cells": [
  {
   "cell_type": "code",
   "execution_count": 1,
   "metadata": {},
   "outputs": [],
   "source": [
    "import os\n",
    "os.chdir(\"../\")"
   ]
  },
  {
   "cell_type": "code",
   "execution_count": 2,
   "metadata": {},
   "outputs": [],
   "source": [
    "from dataclasses import dataclass\n",
    "from pathlib import Path\n",
    "\n",
    "#instead of using namedtuple approach, we can use below approach of class variables\n",
    "#advantage of this approach is here we can define datatype of each variable.\n",
    "@dataclass(frozen=True)\n",
    "class PrepareCallbacksConfig:\n",
    "  root_dir: Path\n",
    "  tensorboard_root_log_dir: Path\n",
    "  checkpoint_model_filepath: Path"
   ]
  },
  {
   "cell_type": "code",
   "execution_count": 3,
   "metadata": {},
   "outputs": [],
   "source": [
    "from deepClassifier.constants import *\n",
    "from deepClassifier.utils import read_yaml, create_directories"
   ]
  },
  {
   "cell_type": "code",
   "execution_count": 4,
   "metadata": {},
   "outputs": [],
   "source": [
    "class ConfigurationManager:\n",
    "    def __init__(self, config_filepath = CONFIG_FILE_PATH, params_filepath = PARAMS_FILE_PATH):\n",
    "        self.config = read_yaml(config_filepath) #reading config file\n",
    "        self.params = read_yaml(params_filepath)\n",
    "        create_directories([self.config.artifacts_root])\n",
    "        \n",
    "    def get_prepare_callback_config(self) -> PrepareCallbacksConfig: #o/p datatype will be PrepareCallbacksConfig\n",
    "        config = self.config.prepare_callbacks #passing data to local config variable. This data prepare_callbacks comes from config.yaml file\n",
    "        \n",
    "        #creating directory not only for root but for checkpoint and tensorboard logs.\n",
    "        model_ckpt_dir = os.path.dirname(config.checkpoint_model_filepath) #dirname gives dir filename/filepath for model checkpoint. This data comes from config.yaml file\n",
    "        create_directories([\n",
    "            Path(model_ckpt_dir),\n",
    "            Path(config.tensorboard_root_log_dir)\n",
    "        ]) \n",
    "\n",
    "        prepare_callbacks_config = PrepareCallbacksConfig( #using class tuple to get o/p datatype as PrepareCallbacksConfig\n",
    "            root_dir = Path(config.root_dir),\n",
    "            tensorboard_root_log_dir = Path(config.tensorboard_root_log_dir),\n",
    "            checkpoint_model_filepath = Path(config.checkpoint_model_filepath)\n",
    "        )\n",
    "        return prepare_callbacks_config"
   ]
  },
  {
   "cell_type": "code",
   "execution_count": 5,
   "metadata": {},
   "outputs": [],
   "source": [
    "import os\n",
    "import urllib.request as request #to work on url (while downloading)\n",
    "from zipfile import ZipFile # for zip\n",
    "import tensorflow as tf\n",
    "import time\n",
    "\n",
    "#creating callback component\n",
    "#Callback is a method where we save the model from time to time so that in case our training is stopped by some reason, then we can start with latest model.\n",
    "#It also maintains tensorflow logs so we get to know the status of training, accuracy and loss status, etc\n",
    "#Callback examples are checkpoint callbacks, early stopping callbacks, tensorboard logs callbacks, etc.\n",
    "#Checkpoint callback is similar to autosave after certain iterations/time steps in CFD workflow, whereas early stopping is similar to convergence achieved within certain threshold, and, tensorboard logs is like logfiles of .sim\n",
    "\n",
    "class PrepareCallback:\n",
    "    def __init__(self, config: PrepareCallbacksConfig): #takes input in local config variable with i/p datatype as PrepareCallbacksConfig\n",
    "        self.config = config\n",
    "\n",
    "    # single _ is used as a nomenclature for hidden method.\n",
    "    @property #property decorator\n",
    "    def _create_tb_callbacks(self):\n",
    "        #creating directories with timestamp\n",
    "        timestamp = time.strftime(\"%Y-%m-%d-%H-%M-%S\") #timestamp use for creating unique directories. dir name will be Year-month-date-hr-min-sec\n",
    "        tb_running_log_dir = os.path.join(\n",
    "            self.config.tensorboard_root_log_dir,\n",
    "            f\"tb_logs_at_{timestamp}\"\n",
    "            )        \n",
    "        return tf.keras.callbacks.TensorBoard(log_dir=tb_running_log_dir)\n",
    "\n",
    "    @property\n",
    "    def _create_ckpt_callbacks(self):\n",
    "        return tf.keras.callbacks.ModelCheckpoint(\n",
    "            filepath=self.config.checkpoint_model_filepath,\n",
    "            save_best_only=True #save only best weights\n",
    "        )\n",
    "\n",
    "    def get_tb_ckpt_callbacks(self):\n",
    "        return [\n",
    "            self._create_tb_callbacks, #for this fun we are not using (), bcoz we have decorated this function with @property decorator.\n",
    "            self._create_ckpt_callbacks\n",
    "        ]\n",
    "    "
   ]
  },
  {
   "cell_type": "code",
   "execution_count": 6,
   "metadata": {},
   "outputs": [],
   "source": [
    "#pipeline section\n",
    "try:\n",
    "    config = ConfigurationManager()\n",
    "    prepare_callbacks_config = config.get_prepare_callback_config()\n",
    "    prepare_callbacks = PrepareCallback(config = prepare_callbacks_config)\n",
    "    callback_list = prepare_callbacks.get_tb_ckpt_callbacks()\n",
    "except Exception as e:\n",
    "    raise e"
   ]
  },
  {
   "cell_type": "code",
   "execution_count": null,
   "metadata": {},
   "outputs": [],
   "source": []
  },
  {
   "cell_type": "code",
   "execution_count": 6,
   "metadata": {},
   "outputs": [
    {
     "data": {
      "text/plain": [
       "'x/y'"
      ]
     },
     "execution_count": 6,
     "metadata": {},
     "output_type": "execute_result"
    }
   ],
   "source": [
    "import os\n",
    "os.path.dirname(\"x/y/z.txt\")\n",
    "# Above method returns only dir name. Here z.txt is file in dir y. dirname fun returns only dirname/dirpath."
   ]
  },
  {
   "cell_type": "code",
   "execution_count": 8,
   "metadata": {},
   "outputs": [
    {
     "data": {
      "text/plain": [
       "'2023-05-14-11-45-01'"
      ]
     },
     "execution_count": 8,
     "metadata": {},
     "output_type": "execute_result"
    }
   ],
   "source": [
    "import time\n",
    "time.strftime(\"%Y-%m-%d-%H-%M-%S\")"
   ]
  }
 ],
 "metadata": {
  "kernelspec": {
   "display_name": "Python 3",
   "language": "python",
   "name": "python3"
  },
  "language_info": {
   "codemirror_mode": {
    "name": "ipython",
    "version": 3
   },
   "file_extension": ".py",
   "mimetype": "text/x-python",
   "name": "python",
   "nbconvert_exporter": "python",
   "pygments_lexer": "ipython3",
   "version": "3.8.16"
  },
  "orig_nbformat": 4
 },
 "nbformat": 4,
 "nbformat_minor": 2
}
